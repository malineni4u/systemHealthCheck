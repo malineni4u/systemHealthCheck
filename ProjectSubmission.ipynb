{
 "cells": [
  {
   "cell_type": "markdown",
   "id": "68df9462-b023-41fa-842d-e88b22f57472",
   "metadata": {},
   "source": [
    "<h1>Predictive Alerts for Proactive System Failures</h1>"
   ]
  },
  {
   "cell_type": "code",
   "execution_count": 1,
   "id": "376faa93-bda2-4d00-8178-bd2710a24a12",
   "metadata": {},
   "outputs": [],
   "source": [
    "##Load the required Module\n",
    "import pandas as pd\n",
    "import numpy as np\n",
    "import matplotlib.pyplot as plt\n",
    "from sklearn.ensemble import RandomForestClassifier\n",
    "from sklearn.model_selection import train_test_split\n",
    "import seaborn as sns\n",
    "from sklearn.metrics import confusion_matrix, classification_report"
   ]
  },
  {
   "cell_type": "code",
   "execution_count": 2,
   "id": "d2b4b078-0e72-480a-a35f-6e9c804cd9bb",
   "metadata": {},
   "outputs": [],
   "source": [
    "\n",
    "df = pd.read_csv('SystemHealthReport.csv')\n",
    "df.shape\n",
    "\n",
    "# Convert TIMESTAMP column to datetime format\n",
    "df[\"TIMESTAMP\"] = pd.to_datetime(df[\"TIMESTAMP\"])\n",
    "\n",
    "# Drop the TIMESTAMP column (since it's not useful for Random Forest)\n",
    "df = df.drop(columns=[\"TIMESTAMP\"])\n",
    "df[\"MEM\"] += np.random.normal(0, 2, size=len(df))  # Adding slight variation\n",
    "df = df.sample(frac=1, random_state=42).reset_index(drop=True)"
   ]
  },
  {
   "cell_type": "code",
   "execution_count": 3,
   "id": "82cae527-803b-47db-910f-c492e3383c70",
   "metadata": {},
   "outputs": [
    {
     "data": {
      "text/plain": [
       "(1702, 11)"
      ]
     },
     "execution_count": 3,
     "metadata": {},
     "output_type": "execute_result"
    }
   ],
   "source": [
    "df.shape"
   ]
  },
  {
   "cell_type": "code",
   "execution_count": 4,
   "id": "615b0e29-078c-4f2e-9002-8a7ff8649aa8",
   "metadata": {},
   "outputs": [
    {
     "data": {
      "text/html": [
       "<div>\n",
       "<style scoped>\n",
       "    .dataframe tbody tr th:only-of-type {\n",
       "        vertical-align: middle;\n",
       "    }\n",
       "\n",
       "    .dataframe tbody tr th {\n",
       "        vertical-align: top;\n",
       "    }\n",
       "\n",
       "    .dataframe thead th {\n",
       "        text-align: right;\n",
       "    }\n",
       "</style>\n",
       "<table border=\"1\" class=\"dataframe\">\n",
       "  <thead>\n",
       "    <tr style=\"text-align: right;\">\n",
       "      <th></th>\n",
       "      <th>CPU</th>\n",
       "      <th>MEM</th>\n",
       "      <th>LOAD</th>\n",
       "      <th>TCP_PORT_STATUS</th>\n",
       "      <th>TCP_TIME_WAITS</th>\n",
       "      <th>TPS</th>\n",
       "      <th>TOTAL_TCP</th>\n",
       "      <th>NETWORK_LATENCY</th>\n",
       "      <th>RESPONSE_TIME</th>\n",
       "      <th>THREAD_COUNT</th>\n",
       "      <th>RESTART</th>\n",
       "    </tr>\n",
       "  </thead>\n",
       "  <tbody>\n",
       "    <tr>\n",
       "      <th>0</th>\n",
       "      <td>29.089796</td>\n",
       "      <td>31.421809</td>\n",
       "      <td>5.348494</td>\n",
       "      <td>29645</td>\n",
       "      <td>18473</td>\n",
       "      <td>867</td>\n",
       "      <td>48118</td>\n",
       "      <td>139.232110</td>\n",
       "      <td>241.520000</td>\n",
       "      <td>144</td>\n",
       "      <td>Healthy</td>\n",
       "    </tr>\n",
       "    <tr>\n",
       "      <th>1</th>\n",
       "      <td>14.791385</td>\n",
       "      <td>17.501995</td>\n",
       "      <td>2.888202</td>\n",
       "      <td>22971</td>\n",
       "      <td>16489</td>\n",
       "      <td>1267</td>\n",
       "      <td>39460</td>\n",
       "      <td>28.818149</td>\n",
       "      <td>88.981563</td>\n",
       "      <td>246</td>\n",
       "      <td>Healthy</td>\n",
       "    </tr>\n",
       "    <tr>\n",
       "      <th>2</th>\n",
       "      <td>82.211771</td>\n",
       "      <td>83.475540</td>\n",
       "      <td>7.808546</td>\n",
       "      <td>55270</td>\n",
       "      <td>38551</td>\n",
       "      <td>2034</td>\n",
       "      <td>93821</td>\n",
       "      <td>244.112267</td>\n",
       "      <td>342.086193</td>\n",
       "      <td>392</td>\n",
       "      <td>Yellow</td>\n",
       "    </tr>\n",
       "    <tr>\n",
       "      <th>3</th>\n",
       "      <td>36.879727</td>\n",
       "      <td>35.192646</td>\n",
       "      <td>4.807718</td>\n",
       "      <td>13303</td>\n",
       "      <td>4385</td>\n",
       "      <td>848</td>\n",
       "      <td>17688</td>\n",
       "      <td>10.054621</td>\n",
       "      <td>242.307801</td>\n",
       "      <td>298</td>\n",
       "      <td>Healthy</td>\n",
       "    </tr>\n",
       "    <tr>\n",
       "      <th>4</th>\n",
       "      <td>41.395511</td>\n",
       "      <td>46.647367</td>\n",
       "      <td>3.512964</td>\n",
       "      <td>37484</td>\n",
       "      <td>27412</td>\n",
       "      <td>621</td>\n",
       "      <td>64896</td>\n",
       "      <td>92.753090</td>\n",
       "      <td>168.949204</td>\n",
       "      <td>78</td>\n",
       "      <td>Healthy</td>\n",
       "    </tr>\n",
       "  </tbody>\n",
       "</table>\n",
       "</div>"
      ],
      "text/plain": [
       "         CPU        MEM      LOAD  TCP_PORT_STATUS  TCP_TIME_WAITS   TPS  \\\n",
       "0  29.089796  31.421809  5.348494            29645           18473   867   \n",
       "1  14.791385  17.501995  2.888202            22971           16489  1267   \n",
       "2  82.211771  83.475540  7.808546            55270           38551  2034   \n",
       "3  36.879727  35.192646  4.807718            13303            4385   848   \n",
       "4  41.395511  46.647367  3.512964            37484           27412   621   \n",
       "\n",
       "   TOTAL_TCP  NETWORK_LATENCY  RESPONSE_TIME  THREAD_COUNT  RESTART  \n",
       "0      48118       139.232110     241.520000           144  Healthy  \n",
       "1      39460        28.818149      88.981563           246  Healthy  \n",
       "2      93821       244.112267     342.086193           392   Yellow  \n",
       "3      17688        10.054621     242.307801           298  Healthy  \n",
       "4      64896        92.753090     168.949204            78  Healthy  "
      ]
     },
     "execution_count": 4,
     "metadata": {},
     "output_type": "execute_result"
    }
   ],
   "source": [
    "df.head()"
   ]
  },
  {
   "cell_type": "code",
   "execution_count": 5,
   "id": "f38ad0f7-2e87-464c-a8f3-455e9f666ffe",
   "metadata": {},
   "outputs": [
    {
     "data": {
      "text/plain": [
       "array(['Healthy', 'Yellow', 'Restart'], dtype=object)"
      ]
     },
     "execution_count": 5,
     "metadata": {},
     "output_type": "execute_result"
    }
   ],
   "source": [
    "restart_counts = df[\"RESTART\"].value_counts()\n",
    "df['RESTART'].unique()"
   ]
  },
  {
   "cell_type": "markdown",
   "id": "2ed6b0d1-50f6-46a7-aeaa-02d0a748cf67",
   "metadata": {},
   "source": [
    "<h2>Distribution by restart types<h2>"
   ]
  },
  {
   "cell_type": "code",
   "execution_count": 6,
   "id": "8afcccd1-be03-45f9-8c7e-aa1b31b848f6",
   "metadata": {},
   "outputs": [
    {
     "name": "stdout",
     "output_type": "stream",
     "text": [
      "Index(['Healthy', 'Yellow', 'Restart'], dtype='object', name='RESTART')\n"
     ]
    }
   ],
   "source": [
    "print(restart_counts.index)"
   ]
  },
  {
   "cell_type": "code",
   "execution_count": 7,
   "id": "d71fee25-a3a3-4a41-8b28-36966737f692",
   "metadata": {},
   "outputs": [
    {
     "data": {
      "image/png": "[encoded data removed]",
      "text/plain": [
       "<Figure size 800x500 with 1 Axes>"
      ]
     },
     "metadata": {},
     "output_type": "display_data"
    }
   ],
   "source": [
    "import matplotlib.pyplot as plt\n",
    "\n",
    "# Define colors for different Restart categories\n",
    "color_map = {\"Healthy\": \"green\", \"Yellow\": \"yellow\", \"Restart\": \"red\"}\n",
    "\n",
    "# Create bar chart\n",
    "plt.figure(figsize=(8, 5))\n",
    "restart_counts.plot(kind=\"bar\", color=[color_map[key] for key in restart_counts.index])\n",
    "\n",
    "# Set labels and title\n",
    "plt.xlabel(\"Restart Type\")\n",
    "plt.ylabel(\"Count\")\n",
    "plt.title(\"Distribution of Restart Types\")\n",
    "\n",
    "# Show the plot\n",
    "plt.show()\n"
   ]
  },
  {
   "cell_type": "markdown",
   "id": "e87cf56c-26d3-44c5-b66e-3370a96664c5",
   "metadata": {},
   "source": [
    "<h2>Prepare the Data</h2>"
   ]
  },
  {
   "cell_type": "code",
   "execution_count": 8,
   "id": "a1f30a34-bb32-4997-8e34-ec818e4c0763",
   "metadata": {},
   "outputs": [
    {
     "data": {
      "text/plain": [
       "(            CPU        MEM      LOAD  TCP_PORT_STATUS  TCP_TIME_WAITS   TPS  \\\n",
       " 0     29.089796  31.421809  5.348494            29645           18473   867   \n",
       " 1     14.791385  17.501995  2.888202            22971           16489  1267   \n",
       " 2     82.211771  83.475540  7.808546            55270           38551  2034   \n",
       " 3     36.879727  35.192646  4.807718            13303            4385   848   \n",
       " 4     41.395511  46.647367  3.512964            37484           27412   621   \n",
       " ...         ...        ...       ...              ...             ...   ...   \n",
       " 1697  87.040100  81.553698  6.146590            53351           32851  1926   \n",
       " 1698  84.743715  73.459266  6.429860            57553           37740  1963   \n",
       " 1699  69.051604  20.233663  4.321339            15919           14807   587   \n",
       " 1700  75.359253  73.751728  6.466238            56473           32818  2091   \n",
       " 1701  78.185254  79.672277  7.359871            57140           34972  1853   \n",
       " \n",
       "       TOTAL_TCP  NETWORK_LATENCY  RESPONSE_TIME  THREAD_COUNT  \n",
       " 0         48118       139.232110     241.520000           144  \n",
       " 1         39460        28.818149      88.981563           246  \n",
       " 2         93821       244.112267     342.086193           392  \n",
       " 3         17688        10.054621     242.307801           298  \n",
       " 4         64896        92.753090     168.949204            78  \n",
       " ...         ...              ...            ...           ...  \n",
       " 1697      86202       208.261175     381.679451           348  \n",
       " 1698      95293       169.493236     358.617033           307  \n",
       " 1699      30726        37.009013     185.602532           287  \n",
       " 1700      89291       229.259848     319.232359           324  \n",
       " 1701      92112       266.864691     433.611084           394  \n",
       " \n",
       " [1702 rows x 10 columns],\n",
       "       RESTART_Healthy  RESTART_Yellow  RESTART_Restart\n",
       " 0                   1               0                0\n",
       " 1                   1               0                0\n",
       " 2                   0               1                0\n",
       " 3                   1               0                0\n",
       " 4                   1               0                0\n",
       " ...               ...             ...              ...\n",
       " 1697                0               1                0\n",
       " 1698                0               1                0\n",
       " 1699                1               0                0\n",
       " 1700                0               1                0\n",
       " 1701                0               1                0\n",
       " \n",
       " [1702 rows x 3 columns])"
      ]
     },
     "execution_count": 8,
     "metadata": {},
     "output_type": "execute_result"
    }
   ],
   "source": [
    "#One Hot encoding for restrat column \n",
    "\n",
    "df_encoded = pd.get_dummies(df, columns=[\"RESTART\"], dtype=int)\n",
    "\n",
    "X = df_encoded.drop(columns=[\"RESTART_Healthy\", \"RESTART_Yellow\", \"RESTART_Restart\"])  # All features except restart columns\n",
    "Y = df_encoded[[\"RESTART_Healthy\", \"RESTART_Yellow\", \"RESTART_Restart\"]]  # Restart columns as target\n",
    "X,Y"
   ]
  },
  {
   "cell_type": "markdown",
   "id": "a97793dd-773d-4b4a-810c-707beff14c52",
   "metadata": {},
   "source": [
    "<h2>Train and Test Split the Data</h2>"
   ]
  },
  {
   "cell_type": "code",
   "execution_count": 9,
   "id": "1bda7d36-15f1-450d-a5f1-c070cbb8e0e7",
   "metadata": {},
   "outputs": [
    {
     "data": {
      "text/plain": [
       "RESTART_Healthy\n",
       "1    800\n",
       "0    561\n",
       "Name: count, dtype: int64"
      ]
     },
     "execution_count": 9,
     "metadata": {},
     "output_type": "execute_result"
    }
   ],
   "source": [
    "X_train, X_test, Y_train, Y_test = train_test_split(X, Y, test_size=0.2, stratify=Y, random_state=42, shuffle=True)\n",
    "Y_train['RESTART_Healthy'].value_counts()"
   ]
  },
  {
   "cell_type": "markdown",
   "id": "399ece07-0f56-471b-b9a6-a7c89251a572",
   "metadata": {},
   "source": [
    "<h2>Generate the Random Forest</h2>"
   ]
  },
  {
   "cell_type": "code",
   "execution_count": 10,
   "id": "0d704931-e336-47de-aefb-dde1604d88e4",
   "metadata": {},
   "outputs": [
    {
     "data": {
      "text/html": [
       "<style>#sk-container-id-1 {\n",
       "  /* Definition of color scheme common for light and dark mode */\n",
       "  --sklearn-color-text: #000;\n",
       "  --sklearn-color-text-muted: #666;\n",
       "  --sklearn-color-line: gray;\n",
       "  /* Definition of color scheme for unfitted estimators */\n",
       "  --sklearn-color-unfitted-level-0: #fff5e6;\n",
       "  --sklearn-color-unfitted-level-1: #f6e4d2;\n",
       "  --sklearn-color-unfitted-level-2: #ffe0b3;\n",
       "  --sklearn-color-unfitted-level-3: chocolate;\n",
       "  /* Definition of color scheme for fitted estimators */\n",
       "  --sklearn-color-fitted-level-0: #f0f8ff;\n",
       "  --sklearn-color-fitted-level-1: #d4ebff;\n",
       "  --sklearn-color-fitted-level-2: #b3dbfd;\n",
       "  --sklearn-color-fitted-level-3: cornflowerblue;\n",
       "\n",
       "  /* Specific color for light theme */\n",
       "  --sklearn-color-text-on-default-background: var(--sg-text-color, var(--theme-code-foreground, var(--jp-content-font-color1, black)));\n",
       "  --sklearn-color-background: var(--sg-background-color, var(--theme-background, var(--jp-layout-color0, white)));\n",
       "  --sklearn-color-border-box: var(--sg-text-color, var(--theme-code-foreground, var(--jp-content-font-color1, black)));\n",
       "  --sklearn-color-icon: #696969;\n",
       "\n",
       "  @media (prefers-color-scheme: dark) {\n",
       "    /* Redefinition of color scheme for dark theme */\n",
       "    --sklearn-color-text-on-default-background: var(--sg-text-color, var(--theme-code-foreground, var(--jp-content-font-color1, white)));\n",
       "    --sklearn-color-background: var(--sg-background-color, var(--theme-background, var(--jp-layout-color0, #111)));\n",
       "    --sklearn-color-border-box: var(--sg-text-color, var(--theme-code-foreground, var(--jp-content-font-color1, white)));\n",
       "    --sklearn-color-icon: #878787;\n",
       "  }\n",
       "}\n",
       "\n",
       "#sk-container-id-1 {\n",
       "  color: var(--sklearn-color-text);\n",
       "}\n",
       "\n",
       "#sk-container-id-1 pre {\n",
       "  padding: 0;\n",
       "}\n",
       "\n",
       "#sk-container-id-1 input.sk-hidden--visually {\n",
       "  border: 0;\n",
       "  clip: rect(1px 1px 1px 1px);\n",
       "  clip: rect(1px, 1px, 1px, 1px);\n",
       "  height: 1px;\n",
       "  margin: -1px;\n",
       "  overflow: hidden;\n",
       "  padding: 0;\n",
       "  position: absolute;\n",
       "  width: 1px;\n",
       "}\n",
       "\n",
       "#sk-container-id-1 div.sk-dashed-wrapped {\n",
       "  border: 1px dashed var(--sklearn-color-line);\n",
       "  margin: 0 0.4em 0.5em 0.4em;\n",
       "  box-sizing: border-box;\n",
       "  padding-bottom: 0.4em;\n",
       "  background-color: var(--sklearn-color-background);\n",
       "}\n",
       "\n",
       "#sk-container-id-1 div.sk-container {\n",
       "  /* jupyter's `normalize.less` sets `[hidden] { display: none; }`\n",
       "     but bootstrap.min.css set `[hidden] { display: none !important; }`\n",
       "     so we also need the `!important` here to be able to override the\n",
       "     default hidden behavior on the sphinx rendered scikit-learn.org.\n",
       "     See: https://github.com/scikit-learn/scikit-learn/issues/21755 */\n",
       "  display: inline-block !important;\n",
       "  position: relative;\n",
       "}\n",
       "\n",
       "#sk-container-id-1 div.sk-text-repr-fallback {\n",
       "  display: none;\n",
       "}\n",
       "\n",
       "div.sk-parallel-item,\n",
       "div.sk-serial,\n",
       "div.sk-item {\n",
       "  /* draw centered vertical line to link estimators */\n",
       "  background-image: linear-gradient(var(--sklearn-color-text-on-default-background), var(--sklearn-color-text-on-default-background));\n",
       "  background-size: 2px 100%;\n",
       "  background-repeat: no-repeat;\n",
       "  background-position: center center;\n",
       "}\n",
       "\n",
       "/* Parallel-specific style estimator block */\n",
       "\n",
       "#sk-container-id-1 div.sk-parallel-item::after {\n",
       "  content: \"\";\n",
       "  width: 100%;\n",
       "  border-bottom: 2px solid var(--sklearn-color-text-on-default-background);\n",
       "  flex-grow: 1;\n",
       "}\n",
       "\n",
       "#sk-container-id-1 div.sk-parallel {\n",
       "  display: flex;\n",
       "  align-items: stretch;\n",
       "  justify-content: center;\n",
       "  background-color: var(--sklearn-color-background);\n",
       "  position: relative;\n",
       "}\n",
       "\n",
       "#sk-container-id-1 div.sk-parallel-item {\n",
       "  display: flex;\n",
       "  flex-direction: column;\n",
       "}\n",
       "\n",
       "#sk-container-id-1 div.sk-parallel-item:first-child::after {\n",
       "  align-self: flex-end;\n",
       "  width: 50%;\n",
       "}\n",
       "\n",
       "#sk-container-id-1 div.sk-parallel-item:last-child::after {\n",
       "  align-self: flex-start;\n",
       "  width: 50%;\n",
       "}\n",
       "\n",
       "#sk-container-id-1 div.sk-parallel-item:only-child::after {\n",
       "  width: 0;\n",
       "}\n",
       "\n",
       "/* Serial-specific style estimator block */\n",
       "\n",
       "#sk-container-id-1 div.sk-serial {\n",
       "  display: flex;\n",
       "  flex-direction: column;\n",
       "  align-items: center;\n",
       "  background-color: var(--sklearn-color-background);\n",
       "  padding-right: 1em;\n",
       "  padding-left: 1em;\n",
       "}\n",
       "\n",
       "\n",
       "/* Toggleable style: style used for estimator/Pipeline/ColumnTransformer box that is\n",
       "clickable and can be expanded/collapsed.\n",
       "- Pipeline and ColumnTransformer use this feature and define the default style\n",
       "- Estimators will overwrite some part of the style using the `sk-estimator` class\n",
       "*/\n",
       "\n",
       "/* Pipeline and ColumnTransformer style (default) */\n",
       "\n",
       "#sk-container-id-1 div.sk-toggleable {\n",
       "  /* Default theme specific background. It is overwritten whether we have a\n",
       "  specific estimator or a Pipeline/ColumnTransformer */\n",
       "  background-color: var(--sklearn-color-background);\n",
       "}\n",
       "\n",
       "/* Toggleable label */\n",
       "#sk-container-id-1 label.sk-toggleable__label {\n",
       "  cursor: pointer;\n",
       "  display: flex;\n",
       "  width: 100%;\n",
       "  margin-bottom: 0;\n",
       "  padding: 0.5em;\n",
       "  box-sizing: border-box;\n",
       "  text-align: center;\n",
       "  align-items: start;\n",
       "  justify-content: space-between;\n",
       "  gap: 0.5em;\n",
       "}\n",
       "\n",
       "#sk-container-id-1 label.sk-toggleable__label .caption {\n",
       "  font-size: 0.6rem;\n",
       "  font-weight: lighter;\n",
       "  color: var(--sklearn-color-text-muted);\n",
       "}\n",
       "\n",
       "#sk-container-id-1 label.sk-toggleable__label-arrow:before {\n",
       "  /* Arrow on the left of the label */\n",
       "  content: \"▸\";\n",
       "  float: left;\n",
       "  margin-right: 0.25em;\n",
       "  color: var(--sklearn-color-icon);\n",
       "}\n",
       "\n",
       "#sk-container-id-1 label.sk-toggleable__label-arrow:hover:before {\n",
       "  color: var(--sklearn-color-text);\n",
       "}\n",
       "\n",
       "/* Toggleable content - dropdown */\n",
       "\n",
       "#sk-container-id-1 div.sk-toggleable__content {\n",
       "  max-height: 0;\n",
       "  max-width: 0;\n",
       "  overflow: hidden;\n",
       "  text-align: left;\n",
       "  /* unfitted */\n",
       "  background-color: var(--sklearn-color-unfitted-level-0);\n",
       "}\n",
       "\n",
       "#sk-container-id-1 div.sk-toggleable__content.fitted {\n",
       "  /* fitted */\n",
       "  background-color: var(--sklearn-color-fitted-level-0);\n",
       "}\n",
       "\n",
       "#sk-container-id-1 div.sk-toggleable__content pre {\n",
       "  margin: 0.2em;\n",
       "  border-radius: 0.25em;\n",
       "  color: var(--sklearn-color-text);\n",
       "  /* unfitted */\n",
       "  background-color: var(--sklearn-color-unfitted-level-0);\n",
       "}\n",
       "\n",
       "#sk-container-id-1 div.sk-toggleable__content.fitted pre {\n",
       "  /* unfitted */\n",
       "  background-color: var(--sklearn-color-fitted-level-0);\n",
       "}\n",
       "\n",
       "#sk-container-id-1 input.sk-toggleable__control:checked~div.sk-toggleable__content {\n",
       "  /* Expand drop-down */\n",
       "  max-height: 200px;\n",
       "  max-width: 100%;\n",
       "  overflow: auto;\n",
       "}\n",
       "\n",
       "#sk-container-id-1 input.sk-toggleable__control:checked~label.sk-toggleable__label-arrow:before {\n",
       "  content: \"▾\";\n",
       "}\n",
       "\n",
       "/* Pipeline/ColumnTransformer-specific style */\n",
       "\n",
       "#sk-container-id-1 div.sk-label input.sk-toggleable__control:checked~label.sk-toggleable__label {\n",
       "  color: var(--sklearn-color-text);\n",
       "  background-color: var(--sklearn-color-unfitted-level-2);\n",
       "}\n",
       "\n",
       "#sk-container-id-1 div.sk-label.fitted input.sk-toggleable__control:checked~label.sk-toggleable__label {\n",
       "  background-color: var(--sklearn-color-fitted-level-2);\n",
       "}\n",
       "\n",
       "/* Estimator-specific style */\n",
       "\n",
       "/* Colorize estimator box */\n",
       "#sk-container-id-1 div.sk-estimator input.sk-toggleable__control:checked~label.sk-toggleable__label {\n",
       "  /* unfitted */\n",
       "  background-color: var(--sklearn-color-unfitted-level-2);\n",
       "}\n",
       "\n",
       "#sk-container-id-1 div.sk-estimator.fitted input.sk-toggleable__control:checked~label.sk-toggleable__label {\n",
       "  /* fitted */\n",
       "  background-color: var(--sklearn-color-fitted-level-2);\n",
       "}\n",
       "\n",
       "#sk-container-id-1 div.sk-label label.sk-toggleable__label,\n",
       "#sk-container-id-1 div.sk-label label {\n",
       "  /* The background is the default theme color */\n",
       "  color: var(--sklearn-color-text-on-default-background);\n",
       "}\n",
       "\n",
       "/* On hover, darken the color of the background */\n",
       "#sk-container-id-1 div.sk-label:hover label.sk-toggleable__label {\n",
       "  color: var(--sklearn-color-text);\n",
       "  background-color: var(--sklearn-color-unfitted-level-2);\n",
       "}\n",
       "\n",
       "/* Label box, darken color on hover, fitted */\n",
       "#sk-container-id-1 div.sk-label.fitted:hover label.sk-toggleable__label.fitted {\n",
       "  color: var(--sklearn-color-text);\n",
       "  background-color: var(--sklearn-color-fitted-level-2);\n",
       "}\n",
       "\n",
       "/* Estimator label */\n",
       "\n",
       "#sk-container-id-1 div.sk-label label {\n",
       "  font-family: monospace;\n",
       "  font-weight: bold;\n",
       "  display: inline-block;\n",
       "  line-height: 1.2em;\n",
       "}\n",
       "\n",
       "#sk-container-id-1 div.sk-label-container {\n",
       "  text-align: center;\n",
       "}\n",
       "\n",
       "/* Estimator-specific */\n",
       "#sk-container-id-1 div.sk-estimator {\n",
       "  font-family: monospace;\n",
       "  border: 1px dotted var(--sklearn-color-border-box);\n",
       "  border-radius: 0.25em;\n",
       "  box-sizing: border-box;\n",
       "  margin-bottom: 0.5em;\n",
       "  /* unfitted */\n",
       "  background-color: var(--sklearn-color-unfitted-level-0);\n",
       "}\n",
       "\n",
       "#sk-container-id-1 div.sk-estimator.fitted {\n",
       "  /* fitted */\n",
       "  background-color: var(--sklearn-color-fitted-level-0);\n",
       "}\n",
       "\n",
       "/* on hover */\n",
       "#sk-container-id-1 div.sk-estimator:hover {\n",
       "  /* unfitted */\n",
       "  background-color: var(--sklearn-color-unfitted-level-2);\n",
       "}\n",
       "\n",
       "#sk-container-id-1 div.sk-estimator.fitted:hover {\n",
       "  /* fitted */\n",
       "  background-color: var(--sklearn-color-fitted-level-2);\n",
       "}\n",
       "\n",
       "/* Specification for estimator info (e.g. \"i\" and \"?\") */\n",
       "\n",
       "/* Common style for \"i\" and \"?\" */\n",
       "\n",
       ".sk-estimator-doc-link,\n",
       "a:link.sk-estimator-doc-link,\n",
       "a:visited.sk-estimator-doc-link {\n",
       "  float: right;\n",
       "  font-size: smaller;\n",
       "  line-height: 1em;\n",
       "  font-family: monospace;\n",
       "  background-color: var(--sklearn-color-background);\n",
       "  border-radius: 1em;\n",
       "  height: 1em;\n",
       "  width: 1em;\n",
       "  text-decoration: none !important;\n",
       "  margin-left: 0.5em;\n",
       "  text-align: center;\n",
       "  /* unfitted */\n",
       "  border: var(--sklearn-color-unfitted-level-1) 1pt solid;\n",
       "  color: var(--sklearn-color-unfitted-level-1);\n",
       "}\n",
       "\n",
       ".sk-estimator-doc-link.fitted,\n",
       "a:link.sk-estimator-doc-link.fitted,\n",
       "a:visited.sk-estimator-doc-link.fitted {\n",
       "  /* fitted */\n",
       "  border: var(--sklearn-color-fitted-level-1) 1pt solid;\n",
       "  color: var(--sklearn-color-fitted-level-1);\n",
       "}\n",
       "\n",
       "/* On hover */\n",
       "div.sk-estimator:hover .sk-estimator-doc-link:hover,\n",
       ".sk-estimator-doc-link:hover,\n",
       "div.sk-label-container:hover .sk-estimator-doc-link:hover,\n",
       ".sk-estimator-doc-link:hover {\n",
       "  /* unfitted */\n",
       "  background-color: var(--sklearn-color-unfitted-level-3);\n",
       "  color: var(--sklearn-color-background);\n",
       "  text-decoration: none;\n",
       "}\n",
       "\n",
       "div.sk-estimator.fitted:hover .sk-estimator-doc-link.fitted:hover,\n",
       ".sk-estimator-doc-link.fitted:hover,\n",
       "div.sk-label-container:hover .sk-estimator-doc-link.fitted:hover,\n",
       ".sk-estimator-doc-link.fitted:hover {\n",
       "  /* fitted */\n",
       "  background-color: var(--sklearn-color-fitted-level-3);\n",
       "  color: var(--sklearn-color-background);\n",
       "  text-decoration: none;\n",
       "}\n",
       "\n",
       "/* Span, style for the box shown on hovering the info icon */\n",
       ".sk-estimator-doc-link span {\n",
       "  display: none;\n",
       "  z-index: 9999;\n",
       "  position: relative;\n",
       "  font-weight: normal;\n",
       "  right: .2ex;\n",
       "  padding: .5ex;\n",
       "  margin: .5ex;\n",
       "  width: min-content;\n",
       "  min-width: 20ex;\n",
       "  max-width: 50ex;\n",
       "  color: var(--sklearn-color-text);\n",
       "  box-shadow: 2pt 2pt 4pt #999;\n",
       "  /* unfitted */\n",
       "  background: var(--sklearn-color-unfitted-level-0);\n",
       "  border: .5pt solid var(--sklearn-color-unfitted-level-3);\n",
       "}\n",
       "\n",
       ".sk-estimator-doc-link.fitted span {\n",
       "  /* fitted */\n",
       "  background: var(--sklearn-color-fitted-level-0);\n",
       "  border: var(--sklearn-color-fitted-level-3);\n",
       "}\n",
       "\n",
       ".sk-estimator-doc-link:hover span {\n",
       "  display: block;\n",
       "}\n",
       "\n",
       "/* \"?\"-specific style due to the `<a>` HTML tag */\n",
       "\n",
       "#sk-container-id-1 a.estimator_doc_link {\n",
       "  float: right;\n",
       "  font-size: 1rem;\n",
       "  line-height: 1em;\n",
       "  font-family: monospace;\n",
       "  background-color: var(--sklearn-color-background);\n",
       "  border-radius: 1rem;\n",
       "  height: 1rem;\n",
       "  width: 1rem;\n",
       "  text-decoration: none;\n",
       "  /* unfitted */\n",
       "  color: var(--sklearn-color-unfitted-level-1);\n",
       "  border: var(--sklearn-color-unfitted-level-1) 1pt solid;\n",
       "}\n",
       "\n",
       "#sk-container-id-1 a.estimator_doc_link.fitted {\n",
       "  /* fitted */\n",
       "  border: var(--sklearn-color-fitted-level-1) 1pt solid;\n",
       "  color: var(--sklearn-color-fitted-level-1);\n",
       "}\n",
       "\n",
       "/* On hover */\n",
       "#sk-container-id-1 a.estimator_doc_link:hover {\n",
       "  /* unfitted */\n",
       "  background-color: var(--sklearn-color-unfitted-level-3);\n",
       "  color: var(--sklearn-color-background);\n",
       "  text-decoration: none;\n",
       "}\n",
       "\n",
       "#sk-container-id-1 a.estimator_doc_link.fitted:hover {\n",
       "  /* fitted */\n",
       "  background-color: var(--sklearn-color-fitted-level-3);\n",
       "}\n",
       "</style><div id=\"sk-container-id-1\" class=\"sk-top-container\"><div class=\"sk-text-repr-fallback\"><pre>RandomForestClassifier(max_depth=10, min_samples_leaf=2, min_samples_split=5,\n",
       "                       n_estimators=50, random_state=42)</pre><b>In a Jupyter environment, please rerun this cell to show the HTML representation or trust the notebook. <br />On GitHub, the HTML representation is unable to render, please try loading this page with nbviewer.org.</b></div><div class=\"sk-container\" hidden><div class=\"sk-item\"><div class=\"sk-estimator fitted sk-toggleable\"><input class=\"sk-toggleable__control sk-hidden--visually\" id=\"sk-estimator-id-1\" type=\"checkbox\" checked><label for=\"sk-estimator-id-1\" class=\"sk-toggleable__label fitted sk-toggleable__label-arrow\"><div><div>RandomForestClassifier</div></div><div><a class=\"sk-estimator-doc-link fitted\" rel=\"noreferrer\" target=\"_blank\" href=\"https://scikit-learn.org/1.6/modules/generated/sklearn.ensemble.RandomForestClassifier.html\">?<span>Documentation for RandomForestClassifier</span></a><span class=\"sk-estimator-doc-link fitted\">i<span>Fitted</span></span></div></label><div class=\"sk-toggleable__content fitted\"><pre>RandomForestClassifier(max_depth=10, min_samples_leaf=2, min_samples_split=5,\n",
       "                       n_estimators=50, random_state=42)</pre></div> </div></div></div></div>"
      ],
      "text/plain": [
       "RandomForestClassifier(max_depth=10, min_samples_leaf=2, min_samples_split=5,\n",
       "                       n_estimators=50, random_state=42)"
      ]
     },
     "execution_count": 10,
     "metadata": {},
     "output_type": "execute_result"
    }
   ],
   "source": [
    "rf_model = RandomForestClassifier(n_estimators=50, max_depth=10, min_samples_split=5, min_samples_leaf=2, random_state=42)\n",
    "rf_model.fit(X_train, Y_train)"
   ]
  },
  {
   "cell_type": "code",
   "execution_count": 11,
   "id": "8fdfd528-5ddd-44b9-b02b-6f89b195fc2f",
   "metadata": {},
   "outputs": [
    {
     "name": "stdout",
     "output_type": "stream",
     "text": [
      "Found existing installation: numpy 1.25.2\n",
      "Uninstalling numpy-1.25.2:\n",
      "  Successfully uninstalled numpy-1.25.2\n",
      "Found existing installation: scikit-learn 1.6.1\n",
      "Uninstalling scikit-learn-1.6.1:\n",
      "  Successfully uninstalled scikit-learn-1.6.1\n",
      "Collecting numpy\n",
      "  Using cached numpy-2.0.2-cp39-cp39-macosx_14_0_x86_64.whl.metadata (60 kB)\n",
      "Collecting scikit-learn\n",
      "  Using cached scikit_learn-1.6.1-cp39-cp39-macosx_10_9_x86_64.whl.metadata (31 kB)\n",
      "Requirement already satisfied: scipy>=1.6.0 in /opt/miniconda3/envs/dlEnv/lib/python3.9/site-packages (from scikit-learn) (1.9.3)\n",
      "Requirement already satisfied: joblib>=1.2.0 in /opt/miniconda3/envs/dlEnv/lib/python3.9/site-packages (from scikit-learn) (1.4.2)\n",
      "Requirement already satisfied: threadpoolctl>=3.1.0 in /opt/miniconda3/envs/dlEnv/lib/python3.9/site-packages (from scikit-learn) (3.5.0)\n",
      "Collecting numpy\n",
      "  Using cached numpy-1.25.2-cp39-cp39-macosx_10_9_x86_64.whl.metadata (5.6 kB)\n",
      "Using cached scikit_learn-1.6.1-cp39-cp39-macosx_10_9_x86_64.whl (12.1 MB)\n",
      "Using cached numpy-1.25.2-cp39-cp39-macosx_10_9_x86_64.whl (20.8 MB)\n",
      "Installing collected packages: numpy, scikit-learn\n",
      "\u001b[31mERROR: pip's dependency resolver does not currently take into account all the packages that are installed. This behaviour is the source of the following dependency conflicts.\n",
      "d2l 1.0.3 requires numpy==1.23.5, but you have numpy 1.25.2 which is incompatible.\n",
      "d2l 1.0.3 requires scipy==1.10.1, but you have scipy 1.9.3 which is incompatible.\u001b[0m\u001b[31m\n",
      "\u001b[0mSuccessfully installed numpy-1.25.2 scikit-learn-1.6.1\n"
     ]
    }
   ],
   "source": [
    "!pip uninstall -y numpy scikit-learn\n",
    "!pip install numpy scikit-learn --upgrade"
   ]
  },
  {
   "cell_type": "markdown",
   "id": "225a8b62-e616-41f8-a162-0d5dde44c6f7",
   "metadata": {},
   "source": [
    "<h2>Lets try one Prediction</h2>"
   ]
  },
  {
   "cell_type": "code",
   "execution_count": 12,
   "id": "0b41de24-5c51-4eff-a54e-3c775cde537c",
   "metadata": {},
   "outputs": [],
   "source": [
    "predictions = rf_model.predict(X_test)"
   ]
  },
  {
   "cell_type": "code",
   "execution_count": 13,
   "id": "42b793bc-a353-4839-987e-fd484fb691ae",
   "metadata": {},
   "outputs": [
    {
     "name": "stdout",
     "output_type": "stream",
     "text": [
      "              precision    recall  f1-score   support\n",
      "\n",
      "           0       1.00      1.00      1.00       200\n",
      "           1       1.00      1.00      1.00       100\n",
      "           2       1.00      1.00      1.00        41\n",
      "\n",
      "   micro avg       1.00      1.00      1.00       341\n",
      "   macro avg       1.00      1.00      1.00       341\n",
      "weighted avg       1.00      1.00      1.00       341\n",
      " samples avg       1.00      1.00      1.00       341\n",
      "\n"
     ]
    }
   ],
   "source": [
    "print(classification_report(Y_test, predictions))"
   ]
  },
  {
   "cell_type": "code",
   "execution_count": 14,
   "id": "d9f8cd2a-c2e8-4f8d-ba83-3b2fd4f3c5a3",
   "metadata": {
    "scrolled": true
   },
   "outputs": [
    {
     "name": "stdout",
     "output_type": "stream",
     "text": [
      "Features expected by the model: ['CPU' 'MEM' 'LOAD' 'TCP_PORT_STATUS' 'TCP_TIME_WAITS' 'TPS' 'TOTAL_TCP'\n",
      " 'NETWORK_LATENCY' 'RESPONSE_TIME' 'THREAD_COUNT']\n",
      "Your X_test features: ['CPU', 'MEM', 'LOAD', 'TCP_PORT_STATUS', 'TCP_TIME_WAITS', 'TPS', 'TOTAL_TCP', 'NETWORK_LATENCY', 'RESPONSE_TIME', 'THREAD_COUNT']\n"
     ]
    }
   ],
   "source": [
    "print(\"Features expected by the model:\", rf_model.feature_names_in_)\n",
    "print(\"Your X_test features:\", X_test.columns.tolist())"
   ]
  },
  {
   "cell_type": "code",
   "execution_count": 15,
   "id": "c6cc5a21-150b-451c-b5b5-74be46c0ec06",
   "metadata": {},
   "outputs": [
    {
     "name": "stdout",
     "output_type": "stream",
     "text": [
      "(341, 3) (341, 3)\n"
     ]
    }
   ],
   "source": [
    "# Check shapes first:\n",
    "print(Y_test.shape, predictions.shape)"
   ]
  },
  {
   "cell_type": "code",
   "execution_count": 16,
   "id": "02355546-56e7-490e-8f1a-06c7b5fba870",
   "metadata": {},
   "outputs": [],
   "source": [
    "# Fix shapes (if necessary)\n",
    "Y_test = np.array(Y_test).ravel()\n",
    "predictions = np.array(predictions).ravel()"
   ]
  },
  {
   "cell_type": "code",
   "execution_count": 17,
   "id": "966b86e3-fb00-450d-ba9c-a124c834ef8b",
   "metadata": {},
   "outputs": [
    {
     "name": "stdout",
     "output_type": "stream",
     "text": [
      "(1023,) (1023,)\n"
     ]
    }
   ],
   "source": [
    "# Verify again:\n",
    "print(Y_test.shape, predictions.shape)"
   ]
  },
  {
   "cell_type": "code",
   "execution_count": 18,
   "id": "d0f12285-e7ac-4cd5-8c42-6bf3b6436771",
   "metadata": {},
   "outputs": [
    {
     "data": {
      "image/png": "[encoded data removed]",
      "text/plain": [
       "<Figure size 640x480 with 2 Axes>"
      ]
     },
     "metadata": {},
     "output_type": "display_data"
    }
   ],
   "source": [
    "# Now run confusion_matrix again:\n",
    "conf_matrix = confusion_matrix(Y_test, predictions)\n",
    "sns.heatmap(conf_matrix, annot=True, fmt='d', cmap='Blues')\n",
    "plt.xlabel('Predicted Labels')\n",
    "plt.ylabel('Actual Labels')\n",
    "plt.title('Confusion Matrix')\n",
    "plt.show()"
   ]
  },
  {
   "cell_type": "code",
   "execution_count": 19,
   "id": "16c44c0d-6867-44e7-9eb9-11b51abd4287",
   "metadata": {},
   "outputs": [],
   "source": [
    "# Assume rf_model is your trained RandomForest model\n",
    "importances = rf_model.feature_importances_\n",
    "features = X_train.columns"
   ]
  },
  {
   "cell_type": "code",
   "execution_count": 24,
   "id": "94d379a7-4855-4c54-9d18-af42e6d6f109",
   "metadata": {},
   "outputs": [
    {
     "data": {
      "text/plain": [
       "(Index(['CPU', 'MEM', 'LOAD', 'TCP_PORT_STATUS', 'TCP_TIME_WAITS', 'TPS',\n",
       "        'TOTAL_TCP', 'NETWORK_LATENCY', 'RESPONSE_TIME', 'THREAD_COUNT'],\n",
       "       dtype='object'),\n",
       " array([0.21848867, 0.00051901, 0.10984716, 0.04639604, 0.09506979,\n",
       "        0.04589466, 0.14922688, 0.09412395, 0.12614405, 0.11428978]))"
      ]
     },
     "execution_count": 24,
     "metadata": {},
     "output_type": "execute_result"
    }
   ],
   "source": [
    "features, importances "
   ]
  },
  {
   "cell_type": "code",
   "execution_count": 21,
   "id": "dfcb5f6f-c0e0-4841-ba9f-2d3e2de3325c",
   "metadata": {},
   "outputs": [
    {
     "data": {
      "image/png": "[encoded data removed]",
      "text/plain": [
       "<Figure size 1000x600 with 1 Axes>"
      ]
     },
     "metadata": {},
     "output_type": "display_data"
    }
   ],
   "source": [
    "import matplotlib.pyplot as plt\n",
    "import seaborn as sns\n",
    "\n",
    "# Create a DataFrame for visualization\n",
    "feat_importance_df = pd.DataFrame({\n",
    "    'feature': features,\n",
    "    'importance': importances\n",
    "}).sort_values(by='importance', ascending=False)\n",
    "\n",
    "# Plotting feature importance\n",
    "plt.figure(figsize=(10,6))\n",
    "sns.barplot(x='importance', y='feature', data=feat_importance_df)\n",
    "plt.title('Feature Importance')\n",
    "plt.xlabel('Importance')\n",
    "plt.ylabel('Features')\n",
    "plt.show()\n"
   ]
  }
 ],
 "metadata": {
  "kernelspec": {
   "display_name": "Python 3 (ipykernel)",
   "language": "python",
   "name": "python3"
  },
  "language_info": {
   "codemirror_mode": {
    "name": "ipython",
    "version": 3
   },
   "file_extension": ".py",
   "mimetype": "text/x-python",
   "name": "python",
   "nbconvert_exporter": "python",
   "pygments_lexer": "ipython3",
   "version": "3.9.19"
  }
 },
 "nbformat": 4,
 "nbformat_minor": 5
}
